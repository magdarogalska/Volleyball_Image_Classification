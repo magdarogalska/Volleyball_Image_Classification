{
  "nbformat": 4,
  "nbformat_minor": 0,
  "metadata": {
    "colab": {
      "provenance": [],
      "mount_file_id": "1tEWuszozabqsKA4V-e6hHE6S80HYRggE",
      "authorship_tag": "ABX9TyMiKc3HWWzUC/6mmzOZ+SEc",
      "include_colab_link": true
    },
    "kernelspec": {
      "name": "python3",
      "display_name": "Python 3"
    },
    "language_info": {
      "name": "python"
    }
  },
  "cells": [
    {
      "cell_type": "markdown",
      "metadata": {
        "id": "view-in-github",
        "colab_type": "text"
      },
      "source": [
        "<a href=\"https://colab.research.google.com/github/magdarogalska/Volleyball_Image_Classification/blob/main/VolleyballImageClass.ipynb\" target=\"_parent\"><img src=\"https://colab.research.google.com/assets/colab-badge.svg\" alt=\"Open In Colab\"/></a>"
      ]
    },
    {
      "cell_type": "code",
      "execution_count": null,
      "metadata": {
        "id": "T2QuH3rZowrM"
      },
      "outputs": [],
      "source": []
    },
    {
      "cell_type": "code",
      "source": [
        "import os\n",
        "import random\n",
        "from sklearn.model_selection import train_test_split\n",
        "\n",
        "dataset_path = '/content/drive/MyDrive/Volleyball Class'\n",
        "\n",
        "\n",
        "classes = os.listdir(dataset_path)\n",
        "\n",
        "\n",
        "data = []\n",
        "labels = []\n",
        "\n",
        "# Iterate through each class\n",
        "for class_name in classes:\n",
        "    class_path = os.path.join(dataset_path, class_name)\n",
        "\n",
        "    # Ensure it's a directory\n",
        "    if os.path.isdir(class_path):\n",
        "        # Get all file names in the class directory\n",
        "        class_files = os.listdir(class_path)\n",
        "\n",
        "        # Create file paths and labels\n",
        "        class_data = [os.path.join(class_path, file) for file in class_files]\n",
        "        class_labels = [class_name] * len(class_data)\n",
        "\n",
        "        data.extend(class_data)\n",
        "        labels.extend(class_labels)\n",
        "\n",
        "\n",
        "train_data, test_data, train_labels, test_labels = train_test_split(\n",
        "    data, labels, test_size=0.2, random_state=42\n",
        ")\n",
        "\n",
        "\n",
        "print(f\"Number of training samples: {len(train_data)}\")\n",
        "print(f\"Number of testing samples: {len(test_data)}\")\n"
      ],
      "metadata": {
        "colab": {
          "base_uri": "https://localhost:8080/"
        },
        "id": "R3TBCcusoz8N",
        "outputId": "2f378db1-3c23-49ef-87ff-a9ec6e0f88b9"
      },
      "execution_count": null,
      "outputs": [
        {
          "output_type": "stream",
          "name": "stdout",
          "text": [
            "Number of training samples: 96\n",
            "Number of testing samples: 24\n"
          ]
        }
      ]
    },
    {
      "cell_type": "code",
      "source": [
        "train_data[0]"
      ],
      "metadata": {
        "colab": {
          "base_uri": "https://localhost:8080/",
          "height": 35
        },
        "id": "bwKyZBJV3bRd",
        "outputId": "4708dba8-356d-42bf-fd38-6154508636c6"
      },
      "execution_count": null,
      "outputs": [
        {
          "output_type": "execute_result",
          "data": {
            "text/plain": [
              "'/content/drive/MyDrive/Volleyball Class/set/IMG_0964.JPG'"
            ],
            "application/vnd.google.colaboratory.intrinsic+json": {
              "type": "string"
            }
          },
          "metadata": {},
          "execution_count": 3
        }
      ]
    },
    {
      "cell_type": "code",
      "source": [
        "import cv2\n",
        "from PIL import Image\n",
        "\n",
        "target_size=(224,224)\n",
        "output_dir = '/content/drive/MyDrive/Volleyball Class/resized/set'\n",
        "input_dir = '/content/drive/MyDrive/Volleyball Class/set'\n",
        "os.makedirs(output_dir, exist_ok=True)\n",
        "\n",
        "\n",
        "for filename in os.listdir(input_dir):\n",
        "  output_path = os.path.join(output_dir,filename)\n",
        "  print(output_path)\n",
        "  input_path = os.path.join(input_dir, filename)\n",
        "  try:\n",
        "\n",
        "    img = cv2.imread(input_path)\n",
        "    resized_img = cv2.resize(img, target_size)\n",
        "    cv2.imwrite(output_path, resized_img)\n",
        "    if img is None:\n",
        "      print(f\"Error loading image: {filename}\")\n",
        "  except Exception as e:\n",
        "    print(f\"Error processing image: {filename}\")\n",
        "    print(e)\n",
        "\n",
        "\n",
        "\n"
      ],
      "metadata": {
        "colab": {
          "base_uri": "https://localhost:8080/"
        },
        "id": "rMVXlioypJLi",
        "outputId": "3895bce7-0225-4e4e-ede9-5fa54fc98978"
      },
      "execution_count": null,
      "outputs": [
        {
          "output_type": "stream",
          "name": "stdout",
          "text": [
            "/content/drive/MyDrive/Volleyball Class/resized/set/76B6E851-62B8-41C4-AFD3-5F228115AEB3.JPG\n",
            "/content/drive/MyDrive/Volleyball Class/resized/set/145A9964.JPEG\n",
            "/content/drive/MyDrive/Volleyball Class/resized/set/IMG_0570.JPG\n",
            "/content/drive/MyDrive/Volleyball Class/resized/set/IMG_0571.JPG\n",
            "/content/drive/MyDrive/Volleyball Class/resized/set/IMG_0576.JPG\n",
            "/content/drive/MyDrive/Volleyball Class/resized/set/IMG_0642.JPG\n",
            "/content/drive/MyDrive/Volleyball Class/resized/set/IMG_0645.JPG\n",
            "/content/drive/MyDrive/Volleyball Class/resized/set/IMG_0646.JPG\n",
            "/content/drive/MyDrive/Volleyball Class/resized/set/IMG_0653.JPG\n",
            "/content/drive/MyDrive/Volleyball Class/resized/set/IMG_0655.JPG\n",
            "/content/drive/MyDrive/Volleyball Class/resized/set/IMG_0657.JPG\n",
            "/content/drive/MyDrive/Volleyball Class/resized/set/IMG_0658.JPG\n",
            "/content/drive/MyDrive/Volleyball Class/resized/set/IMG_0659 (1).JPG\n",
            "/content/drive/MyDrive/Volleyball Class/resized/set/IMG_0659.JPG\n",
            "/content/drive/MyDrive/Volleyball Class/resized/set/IMG_0660.JPG\n",
            "/content/drive/MyDrive/Volleyball Class/resized/set/IMG_0663.JPG\n",
            "/content/drive/MyDrive/Volleyball Class/resized/set/IMG_0740.JPG\n",
            "/content/drive/MyDrive/Volleyball Class/resized/set/IMG_0749.JPG\n",
            "/content/drive/MyDrive/Volleyball Class/resized/set/IMG_0750.JPG\n",
            "/content/drive/MyDrive/Volleyball Class/resized/set/IMG_0752.JPG\n",
            "/content/drive/MyDrive/Volleyball Class/resized/set/IMG_0755.JPG\n",
            "/content/drive/MyDrive/Volleyball Class/resized/set/IMG_0762.JPG\n",
            "/content/drive/MyDrive/Volleyball Class/resized/set/IMG_0963.JPG\n",
            "/content/drive/MyDrive/Volleyball Class/resized/set/IMG_0964.JPG\n",
            "/content/drive/MyDrive/Volleyball Class/resized/set/IMG_1036.JPG\n",
            "/content/drive/MyDrive/Volleyball Class/resized/set/IMG_1038.JPG\n",
            "/content/drive/MyDrive/Volleyball Class/resized/set/IMG_1398.JPG\n",
            "/content/drive/MyDrive/Volleyball Class/resized/set/IMG_5778_Original.jpg\n",
            "/content/drive/MyDrive/Volleyball Class/resized/set/IMG_6501.JPG\n",
            "/content/drive/MyDrive/Volleyball Class/resized/set/IMG_6502.JPG\n",
            "/content/drive/MyDrive/Volleyball Class/resized/set/IMG_6879.jpg\n",
            "/content/drive/MyDrive/Volleyball Class/resized/set/IMG_6985.jpg\n",
            "/content/drive/MyDrive/Volleyball Class/resized/set/IMG_7057.jpg\n",
            "/content/drive/MyDrive/Volleyball Class/resized/set/IMG_7075.jpg\n",
            "/content/drive/MyDrive/Volleyball Class/resized/set/IMG_7801.jpg\n",
            "/content/drive/MyDrive/Volleyball Class/resized/set/IMG_7888.jpg\n",
            "/content/drive/MyDrive/Volleyball Class/resized/set/IMG_7915.jpg\n",
            "/content/drive/MyDrive/Volleyball Class/resized/set/IMG_8320.jpg\n",
            "/content/drive/MyDrive/Volleyball Class/resized/set/IMG_8535.jpg\n",
            "/content/drive/MyDrive/Volleyball Class/resized/set/IMG_8546.jpg\n",
            "/content/drive/MyDrive/Volleyball Class/resized/set/IMG_8925.jpg\n",
            "/content/drive/MyDrive/Volleyball Class/resized/set/IMG_8959.jpg\n",
            "/content/drive/MyDrive/Volleyball Class/resized/set/IMG_8971.jpg\n",
            "/content/drive/MyDrive/Volleyball Class/resized/set/IMG_9064.jpg\n",
            "/content/drive/MyDrive/Volleyball Class/resized/set/IMG01797.JPG\n",
            "/content/drive/MyDrive/Volleyball Class/resized/set/IMG01798.JPG\n",
            "/content/drive/MyDrive/Volleyball Class/resized/set/maja-ognjenovic.jpg\n",
            "/content/drive/MyDrive/Volleyball Class/resized/set/user-temple-womens-volleyball-2022-02-17-t-22-26-17-499-z.JPG\n",
            "/content/drive/MyDrive/Volleyball Class/resized/set/VOL9_12_19_045.jpg\n",
            "/content/drive/MyDrive/Volleyball Class/resized/set/.ipynb_checkpoints\n",
            "Error processing image: .ipynb_checkpoints\n",
            "OpenCV(4.8.0) /io/opencv/modules/imgproc/src/resize.cpp:4062: error: (-215:Assertion failed) !ssize.empty() in function 'resize'\n",
            "\n"
          ]
        }
      ]
    },
    {
      "cell_type": "code",
      "source": [
        "output_dir = '/content/drive/MyDrive/Volleyball Class/resized/attack'\n",
        "input_dir = '/content/drive/MyDrive/Volleyball Class/attack'\n",
        "os.makedirs(output_dir, exist_ok=True)\n",
        "\n",
        "\n",
        "for filename in os.listdir(input_dir):\n",
        "  output_path = os.path.join(output_dir,filename)\n",
        "  print(output_path)\n",
        "  input_path = os.path.join(input_dir, filename)\n",
        "  try:\n",
        "\n",
        "    img = cv2.imread(input_path)\n",
        "    resized_img = cv2.resize(img, target_size)\n",
        "    cv2.imwrite(output_path, resized_img)\n",
        "    if img is None:\n",
        "      print(f\"Error loading image: {filename}\")\n",
        "  except Exception as e:\n",
        "    print(f\"Error processing image: {filename}\")\n",
        "    print(e)"
      ],
      "metadata": {
        "colab": {
          "base_uri": "https://localhost:8080/"
        },
        "id": "KowOhT2rpVJt",
        "outputId": "644b5daa-bc82-466f-d85a-72d731e8dda7"
      },
      "execution_count": null,
      "outputs": [
        {
          "output_type": "stream",
          "name": "stdout",
          "text": [
            "/content/drive/MyDrive/Volleyball Class/resized/attack/5678.jpg\n",
            "/content/drive/MyDrive/Volleyball Class/resized/attack/65765.jpg\n",
            "/content/drive/MyDrive/Volleyball Class/resized/attack/252667.jpg\n",
            "/content/drive/MyDrive/Volleyball Class/resized/attack/Eggleston.jpeg\n",
            "/content/drive/MyDrive/Volleyball Class/resized/attack/IMG_6946.jpg\n",
            "/content/drive/MyDrive/Volleyball Class/resized/attack/IMG_7357.jpg\n",
            "/content/drive/MyDrive/Volleyball Class/resized/attack/IMG_7537.jpg\n",
            "/content/drive/MyDrive/Volleyball Class/resized/attack/IMG_7852.jpg\n",
            "/content/drive/MyDrive/Volleyball Class/resized/attack/IMG_8025.JPG\n",
            "/content/drive/MyDrive/Volleyball Class/resized/attack/IMG_8113.jpg\n",
            "/content/drive/MyDrive/Volleyball Class/resized/attack/IMG_8827.jpg\n",
            "/content/drive/MyDrive/Volleyball Class/resized/attack/IMG_9140.jpg\n",
            "/content/drive/MyDrive/Volleyball Class/resized/attack/IMG01866.JPG\n",
            "/content/drive/MyDrive/Volleyball Class/resized/attack/IMG02000.JPG\n",
            "/content/drive/MyDrive/Volleyball Class/resized/attack/IMG02068.JPG\n"
          ]
        }
      ]
    },
    {
      "cell_type": "code",
      "source": [
        "output_dir = '/content/drive/MyDrive/Volleyball Class/resized/serve'\n",
        "input_dir = '/content/drive/MyDrive/Volleyball Class/serve'\n",
        "os.makedirs(output_dir, exist_ok=True)\n",
        "\n",
        "\n",
        "for filename in os.listdir(input_dir):\n",
        "  output_path = os.path.join(output_dir,filename)\n",
        "  print(output_path)\n",
        "  input_path = os.path.join(input_dir, filename)\n",
        "  try:\n",
        "\n",
        "    img = cv2.imread(input_path)\n",
        "    resized_img = cv2.resize(img, target_size)\n",
        "    cv2.imwrite(output_path, resized_img)\n",
        "    if img is None:\n",
        "      print(f\"Error loading image: {filename}\")\n",
        "  except Exception as e:\n",
        "    print(f\"Error processing image: {filename}\")\n",
        "    print(e)"
      ],
      "metadata": {
        "colab": {
          "base_uri": "https://localhost:8080/"
        },
        "id": "2CURcBDr12ne",
        "outputId": "fb039aa5-f24a-48b6-d596-9c9c8933f749"
      },
      "execution_count": null,
      "outputs": [
        {
          "output_type": "stream",
          "name": "stdout",
          "text": [
            "/content/drive/MyDrive/Volleyball Class/resized/serve/IMG_0556.JPG\n",
            "/content/drive/MyDrive/Volleyball Class/resized/serve/IMG_0652.JPG\n",
            "/content/drive/MyDrive/Volleyball Class/resized/serve/IMG_0761.JPG\n",
            "/content/drive/MyDrive/Volleyball Class/resized/serve/IMG_1035.JPG\n",
            "/content/drive/MyDrive/Volleyball Class/resized/serve/IMG_6932.jpg\n",
            "/content/drive/MyDrive/Volleyball Class/resized/serve/IMG_6941.jpg\n",
            "/content/drive/MyDrive/Volleyball Class/resized/serve/IMG_7282.jpg\n",
            "/content/drive/MyDrive/Volleyball Class/resized/serve/IMG_7290.jpg\n",
            "/content/drive/MyDrive/Volleyball Class/resized/serve/IMG_7314.jpg\n",
            "/content/drive/MyDrive/Volleyball Class/resized/serve/IMG_7376.jpg\n",
            "/content/drive/MyDrive/Volleyball Class/resized/serve/IMG_7456.jpg\n",
            "/content/drive/MyDrive/Volleyball Class/resized/serve/IMG_7488.jpg\n",
            "/content/drive/MyDrive/Volleyball Class/resized/serve/IMG_7610.jpg\n",
            "/content/drive/MyDrive/Volleyball Class/resized/serve/IMG_7885.jpg\n"
          ]
        }
      ]
    },
    {
      "cell_type": "code",
      "source": [
        "output_dir = '/content/drive/MyDrive/Volleyball Class/resized/block'\n",
        "input_dir = '/content/drive/MyDrive/Volleyball Class/block'\n",
        "os.makedirs(output_dir, exist_ok=True)\n",
        "\n",
        "\n",
        "for filename in os.listdir(input_dir):\n",
        "  output_path = os.path.join(output_dir,filename)\n",
        "  print(output_path)\n",
        "  input_path = os.path.join(input_dir, filename)\n",
        "  try:\n",
        "\n",
        "    img = cv2.imread(input_path)\n",
        "    resized_img = cv2.resize(img, target_size)\n",
        "    cv2.imwrite(output_path, resized_img)\n",
        "    if img is None:\n",
        "      print(f\"Error loading image: {filename}\")\n",
        "  except Exception as e:\n",
        "    print(f\"Error processing image: {filename}\")\n",
        "    print(e)"
      ],
      "metadata": {
        "colab": {
          "base_uri": "https://localhost:8080/"
        },
        "id": "yYhV7OVf16a4",
        "outputId": "546de85b-bd81-47b7-9b9e-a94bfbb5b1c5"
      },
      "execution_count": null,
      "outputs": [
        {
          "output_type": "stream",
          "name": "stdout",
          "text": [
            "/content/drive/MyDrive/Volleyball Class/resized/block/images (1).jpg\n",
            "/content/drive/MyDrive/Volleyball Class/resized/block/IMG_0744.JPG\n",
            "/content/drive/MyDrive/Volleyball Class/resized/block/IMG_0745.JPG\n",
            "/content/drive/MyDrive/Volleyball Class/resized/block/IMG_0746.JPG\n",
            "/content/drive/MyDrive/Volleyball Class/resized/block/IMG_0747.JPG\n",
            "/content/drive/MyDrive/Volleyball Class/resized/block/IMG_1034.JPG\n",
            "/content/drive/MyDrive/Volleyball Class/resized/block/IMG_7349.jpg\n",
            "/content/drive/MyDrive/Volleyball Class/resized/block/IMG_8023.JPG\n",
            "/content/drive/MyDrive/Volleyball Class/resized/block/IMG01870.JPG\n",
            "/content/drive/MyDrive/Volleyball Class/resized/block/IMG01905.JPG\n",
            "/content/drive/MyDrive/Volleyball Class/resized/block/IMG01914.JPG\n",
            "/content/drive/MyDrive/Volleyball Class/resized/block/IMG01920.JPG\n",
            "/content/drive/MyDrive/Volleyball Class/resized/block/IMG01924.JPG\n",
            "/content/drive/MyDrive/Volleyball Class/resized/block/IMG01941.JPG\n",
            "/content/drive/MyDrive/Volleyball Class/resized/block/IMG02003.JPG\n",
            "/content/drive/MyDrive/Volleyball Class/resized/block/IMG02035.JPG\n",
            "/content/drive/MyDrive/Volleyball Class/resized/block/jea-2629-gophers-vs-bryant.webp\n"
          ]
        }
      ]
    },
    {
      "cell_type": "code",
      "source": [
        "output_dir = '/content/drive/MyDrive/Volleyball Class/resized/pass'\n",
        "input_dir = '/content/drive/MyDrive/Volleyball Class/pass'\n",
        "os.makedirs(output_dir, exist_ok=True)\n",
        "\n",
        "\n",
        "for filename in os.listdir(input_dir):\n",
        "  output_path = os.path.join(output_dir,filename)\n",
        "  print(output_path)\n",
        "  input_path = os.path.join(input_dir, filename)\n",
        "  try:\n",
        "\n",
        "    img = cv2.imread(input_path)\n",
        "    resized_img = cv2.resize(img, target_size)\n",
        "    cv2.imwrite(output_path, resized_img)\n",
        "    if img is None:\n",
        "      print(f\"Error loading image: {filename}\")\n",
        "  except Exception as e:\n",
        "    print(f\"Error processing image: {filename}\")\n",
        "    print(e)"
      ],
      "metadata": {
        "colab": {
          "base_uri": "https://localhost:8080/"
        },
        "id": "oTpo5r281_C7",
        "outputId": "2b98df08-7bd4-4ec5-940d-33ad92e8add4"
      },
      "execution_count": null,
      "outputs": [
        {
          "output_type": "stream",
          "name": "stdout",
          "text": [
            "/content/drive/MyDrive/Volleyball Class/resized/pass/613G7pCccKL._AC_UF350,350_QL80_.jpg\n",
            "/content/drive/MyDrive/Volleyball Class/resized/pass/436765.jpg\n",
            "/content/drive/MyDrive/Volleyball Class/resized/pass/904132.jpg\n",
            "/content/drive/MyDrive/Volleyball Class/resized/pass/07102019.jpg\n",
            "/content/drive/MyDrive/Volleyball Class/resized/pass/IMG_3308.JPG\n",
            "/content/drive/MyDrive/Volleyball Class/resized/pass/IMG_6710.jpg\n",
            "/content/drive/MyDrive/Volleyball Class/resized/pass/IMG_6713.jpg\n",
            "/content/drive/MyDrive/Volleyball Class/resized/pass/IMG_8185.jpg\n",
            "/content/drive/MyDrive/Volleyball Class/resized/pass/IMG_8293.jpg\n",
            "/content/drive/MyDrive/Volleyball Class/resized/pass/IMG_8299.jpg\n",
            "/content/drive/MyDrive/Volleyball Class/resized/pass/IMG_8454.jpg\n",
            "/content/drive/MyDrive/Volleyball Class/resized/pass/IMG_8836.jpg\n",
            "/content/drive/MyDrive/Volleyball Class/resized/pass/IMG_8968.jpg\n",
            "/content/drive/MyDrive/Volleyball Class/resized/pass/IMG_9023.jpg\n",
            "/content/drive/MyDrive/Volleyball Class/resized/pass/IMG_9096.jpg\n",
            "/content/drive/MyDrive/Volleyball Class/resized/pass/IMG_9097.jpg\n",
            "/content/drive/MyDrive/Volleyball Class/resized/pass/IMG_9362.jpg\n",
            "/content/drive/MyDrive/Volleyball Class/resized/pass/img123.jpg\n",
            "/content/drive/MyDrive/Volleyball Class/resized/pass/pobrane.jpg\n"
          ]
        }
      ]
    },
    {
      "cell_type": "code",
      "source": [
        "import os\n",
        "\n",
        "train_path = '/content/drive/MyDrive/Volleyball Class/train_data'\n",
        "test_path = '/content/drive/MyDrive/Volleyball Class/test_data'\n",
        "try:\n",
        "    shutil.rmtree(train_path)  # Remove directory and its contents recursively\n",
        "except OSError as e:\n",
        "    print(f\"Error: {e}\")\n",
        "try:\n",
        "    shutil.rmtree(test_path)  # Remove directory and its contents recursively\n",
        "except OSError as e:\n",
        "    print(f\"Error: {e}\")\n"
      ],
      "metadata": {
        "id": "OyppEPottpOK"
      },
      "execution_count": null,
      "outputs": []
    },
    {
      "cell_type": "code",
      "source": [
        "import shutil\n",
        "dataset = '/content/drive/MyDrive/Volleyball Class/resized'\n",
        "train_path = '/content/drive/MyDrive/Volleyball Class/train_data'\n",
        "test_path = '/content/drive/MyDrive/Volleyball Class/test_data'\n",
        "\n",
        "os.makedirs(train_path, exist_ok=True)\n",
        "os.makedirs(test_path, exist_ok=True)\n",
        "test_percentage = 0.2\n",
        "\n",
        "for class_name in os.listdir(dataset):\n",
        "    class_path = os.path.join(dataset, class_name)\n",
        "    train_class_path = os.path.join(train_path, class_name)\n",
        "    test_class_path = os.path.join(test_path, class_name)\n",
        "\n",
        "    os.makedirs(train_class_path, exist_ok=True)\n",
        "    os.makedirs(test_class_path, exist_ok=True)\n",
        "\n",
        "    class_files = os.listdir(class_path)\n",
        "    random.shuffle(class_files)\n",
        "\n",
        "\n",
        "    split_index = int(len(class_files) * (1 - test_percentage))\n",
        "    train_files = class_files[:split_index]\n",
        "    test_files = class_files[split_index:]\n",
        "\n",
        "    # Move files to the corresponding directories\n",
        "    for file_name in train_files:\n",
        "        src_path = os.path.join(class_path, file_name)\n",
        "        dst_path = os.path.join(train_class_path, file_name)\n",
        "        try:\n",
        "          shutil.copy(src_path, dst_path)\n",
        "        except Exception as e:\n",
        "          print(e)\n",
        "\n",
        "    for file_name in test_files:\n",
        "        src_path = os.path.join(class_path, file_name)\n",
        "        dst_path = os.path.join(test_class_path, file_name)\n",
        "        try:\n",
        "          shutil.copy(src_path, dst_path)\n",
        "        except Exception as e:\n",
        "          print(e)"
      ],
      "metadata": {
        "colab": {
          "base_uri": "https://localhost:8080/"
        },
        "id": "EK-hzdUZYgds",
        "outputId": "4d4079d7-7a99-467f-e501-33496fd017d1"
      },
      "execution_count": null,
      "outputs": [
        {
          "output_type": "stream",
          "name": "stdout",
          "text": [
            "[Errno 21] Is a directory: '/content/drive/MyDrive/Volleyball Class/resized/block/.ipynb_checkpoints'\n"
          ]
        }
      ]
    },
    {
      "cell_type": "code",
      "source": [],
      "metadata": {
        "id": "XmBTvEl3tYJg"
      },
      "execution_count": null,
      "outputs": []
    },
    {
      "cell_type": "code",
      "source": [
        "# sum=0\n",
        "# for folder in os.listdir(train_path):\n",
        "#   sub_path = os.path.join(train_path,folder)\n",
        "#   print(os.listdir(sub_path))\n",
        "# print(sum)\n",
        "# sum=0\n",
        "# for folder in os.listdir(test_path):\n",
        "#   sub_path = os.path.join(test_path,folder)\n",
        "#   print(os.listdir(sub_path))\n"
      ],
      "metadata": {
        "colab": {
          "base_uri": "https://localhost:8080/"
        },
        "id": "oTn8R1WwrjjB",
        "outputId": "b4d2926b-53cf-4e09-efca-8bb4e67d10f3"
      },
      "execution_count": null,
      "outputs": [
        {
          "output_type": "stream",
          "name": "stdout",
          "text": [
            "['IMG_1038.JPG', 'IMG_8959.jpg', 'IMG_0663.JPG', 'IMG_1036.JPG', 'IMG_7057.jpg', 'IMG_0645.JPG', 'maja-ognjenovic.jpg', 'IMG_0570.JPG', 'IMG_0660.JPG', 'VOL9_12_19_045.jpg', 'IMG_9064.jpg', 'IMG_0755.JPG', 'IMG_0653.JPG', 'IMG_0571.JPG', 'IMG_0646.JPG', 'IMG_6502.JPG', 'IMG_6985.jpg', 'IMG_0655.JPG', 'IMG_0752.JPG', 'IMG_8535.jpg', 'IMG_0576.JPG', 'IMG01797.JPG', 'IMG_0657.JPG', 'IMG_8546.jpg', 'IMG_0749.JPG', '76B6E851-62B8-41C4-AFD3-5F228115AEB3.JPG', 'IMG_1398.JPG', 'IMG_7801.jpg', 'IMG_0762.JPG', 'IMG_7075.jpg', 'IMG_6879.jpg', 'IMG_0750.JPG', 'IMG_6501.JPG', 'IMG_0642.JPG', 'IMG_0963.JPG', 'IMG01798.JPG', 'IMG_0740.JPG', 'IMG_0658.JPG', '145A9964.JPEG', 'IMG_0964.JPG', 'IMG_8925.jpg', 'IMG_7888.jpg', 'IMG_8971.jpg', 'IMG_5778_Original.jpg', 'IMG_0659.JPG', 'IMG_7915.jpg', 'user-temple-womens-volleyball-2022-02-17-t-22-26-17-499-z.JPG', 'IMG_8320.jpg', 'IMG_0659 (1).JPG']\n",
            "['IMG02000.JPG', '252667.jpg', '65765.jpg', 'IMG_7537.jpg', 'IMG_8827.jpg', 'IMG_6946.jpg', 'IMG_7852.jpg', 'IMG01866.JPG', 'IMG_7357.jpg', 'IMG_8113.jpg', 'IMG_8025.JPG', 'Eggleston.jpeg', 'IMG02068.JPG', '5678.jpg', 'IMG_9140.jpg']\n",
            "['IMG_0652.JPG', 'IMG_7376.jpg', 'IMG_7610.jpg', 'IMG_7314.jpg', 'IMG_7885.jpg', 'IMG_7456.jpg', 'IMG_7282.jpg', 'IMG_7290.jpg', 'IMG_0761.JPG', 'IMG_6932.jpg', 'IMG_6941.jpg', 'IMG_1035.JPG', 'IMG_0556.JPG', 'IMG_7488.jpg']\n",
            "['IMG_0745.JPG', 'IMG01870.JPG', 'IMG01905.JPG', 'images (1).jpg', 'IMG01924.JPG', 'IMG_0744.JPG', 'IMG_0747.JPG', 'IMG01914.JPG', 'IMG_0746.JPG', 'IMG02035.JPG', 'IMG02003.JPG', 'IMG01920.JPG', '.ipynb_checkpoints', 'IMG_8023.JPG', 'IMG01941.JPG', 'IMG_1034.JPG', 'IMG_7349.jpg']\n",
            "['img123.jpg', 'IMG_8454.jpg', '07102019.jpg', 'IMG_8293.jpg', '613G7pCccKL._AC_UF350,350_QL80_.jpg', 'IMG_9097.jpg', 'IMG_9362.jpg', 'IMG_6710.jpg', 'IMG_8836.jpg', 'IMG_8185.jpg', 'IMG_8968.jpg', '436765.jpg', 'IMG_9023.jpg', 'pobrane.jpg', 'IMG_8299.jpg', 'IMG_9096.jpg', 'IMG_6713.jpg', '904132.jpg', 'IMG_3308.JPG']\n",
            "0\n",
            "['IMG_5778_Original.jpg', 'IMG_8320.jpg', 'IMG_0659 (1).JPG', 'IMG_7915.jpg', 'IMG_8971.jpg', 'IMG_8925.jpg', 'IMG_0964.JPG', 'user-temple-womens-volleyball-2022-02-17-t-22-26-17-499-z.JPG', 'IMG_0659.JPG', 'IMG_7888.jpg', 'IMG_0755.JPG', 'IMG_0653.JPG', 'IMG_1038.JPG', 'IMG_0740.JPG', 'IMG_1398.JPG', 'IMG_0571.JPG', 'IMG_0576.JPG', 'IMG_0570.JPG', 'IMG01798.JPG', 'IMG_0645.JPG', '145A9964.JPEG', '76B6E851-62B8-41C4-AFD3-5F228115AEB3.JPG', 'IMG_6502.JPG', 'IMG_7075.jpg', 'IMG_0660.JPG', 'IMG_7801.jpg', 'IMG_0750.JPG', 'IMG01797.JPG', 'IMG_6985.jpg', 'IMG_0642.JPG', 'IMG_7057.jpg', 'IMG_8959.jpg', 'IMG_0657.JPG', 'IMG_6879.jpg', 'IMG_0749.JPG']\n",
            "['5678.jpg', 'IMG_9140.jpg', 'IMG02068.JPG', 'IMG_7852.jpg', '65765.jpg', 'IMG_8113.jpg', 'IMG02000.JPG', 'Eggleston.jpeg', 'IMG01866.JPG', '252667.jpg', 'IMG_8827.jpg', 'IMG_7537.jpg', 'IMG_7357.jpg']\n",
            "['IMG_7488.jpg', 'IMG_1035.JPG', 'IMG_0556.JPG', 'IMG_7314.jpg', 'IMG_7290.jpg', 'IMG_6932.jpg', 'IMG_0761.JPG', 'IMG_7456.jpg', 'IMG_0652.JPG', 'IMG_7885.jpg', 'IMG_7376.jpg', 'IMG_7610.jpg']\n",
            "['IMG_7349.jpg', 'IMG_1034.JPG', 'IMG_8023.JPG', 'IMG01941.JPG', 'IMG02035.JPG', 'IMG_0744.JPG', 'IMG_0745.JPG', 'IMG01920.JPG', 'IMG_0747.JPG', 'IMG01905.JPG', 'IMG02003.JPG']\n",
            "['904132.jpg', 'IMG_6713.jpg', 'IMG_9096.jpg', 'IMG_3308.JPG', 'IMG_8968.jpg', 'IMG_8293.jpg', 'IMG_9097.jpg', 'IMG_8836.jpg', '613G7pCccKL._AC_UF350,350_QL80_.jpg', 'pobrane.jpg', '07102019.jpg', 'IMG_6710.jpg', 'IMG_8454.jpg']\n"
          ]
        }
      ]
    },
    {
      "cell_type": "code",
      "source": [
        "from tensorflow.keras.layers import Input, Lambda, Dense, Flatten,Dropout\n",
        "from tensorflow.keras.models import Model\n",
        "from tensorflow.keras.applications.vgg19 import VGG19\n",
        "from tensorflow.keras.applications.vgg19 import preprocess_input\n",
        "from tensorflow.keras.preprocessing import image\n",
        "from tensorflow.keras.preprocessing.image import ImageDataGenerator\n",
        "from tensorflow.keras.models import Sequential\n",
        "\n",
        "x_train=[]\n",
        "\n",
        "for folder in os.listdir(train_path):\n",
        "  sub_path = os.path.join(train_path, folder)\n",
        "  for img in os.listdir(sub_path):\n",
        "\n",
        "        image_path=os.path.join(sub_path, img)\n",
        "\n",
        "        img_arr=cv2.imread(image_path)\n",
        "        x_train.append(img_arr)\n",
        "        print(len(x_train))\n",
        "\n",
        "x_test=[]\n",
        "for folder in os.listdir(test_path):\n",
        "  sub_path = os.path.join(test_path, folder)\n",
        "  for img in os.listdir(sub_path):\n",
        "\n",
        "        image_path=sub_path+\"/\"+img\n",
        "\n",
        "        img_arr=cv2.imread(image_path)\n",
        "        x_test.append(img_arr)"
      ],
      "metadata": {
        "colab": {
          "base_uri": "https://localhost:8080/"
        },
        "id": "y9YqpJ_wfLLj",
        "outputId": "c2b260cc-cdaf-490d-9ca6-39be6967f6b2"
      },
      "execution_count": null,
      "outputs": [
        {
          "output_type": "stream",
          "name": "stdout",
          "text": [
            "1\n",
            "2\n",
            "3\n",
            "4\n",
            "5\n",
            "6\n",
            "7\n",
            "8\n",
            "9\n",
            "10\n",
            "11\n",
            "12\n",
            "13\n",
            "14\n",
            "15\n",
            "16\n",
            "17\n",
            "18\n",
            "19\n",
            "20\n",
            "21\n",
            "22\n",
            "23\n",
            "24\n",
            "25\n",
            "26\n",
            "27\n",
            "28\n",
            "29\n",
            "30\n",
            "31\n",
            "32\n",
            "33\n",
            "34\n",
            "35\n",
            "36\n",
            "37\n",
            "38\n",
            "39\n",
            "40\n",
            "41\n",
            "42\n",
            "43\n",
            "44\n",
            "45\n",
            "46\n",
            "47\n",
            "48\n",
            "49\n",
            "50\n",
            "51\n",
            "52\n",
            "53\n",
            "54\n",
            "55\n",
            "56\n",
            "57\n",
            "58\n",
            "59\n",
            "60\n",
            "61\n",
            "62\n",
            "63\n",
            "64\n",
            "65\n",
            "66\n",
            "67\n",
            "68\n",
            "69\n",
            "70\n",
            "71\n",
            "72\n",
            "73\n",
            "74\n",
            "75\n",
            "76\n",
            "77\n",
            "78\n",
            "79\n",
            "80\n",
            "81\n",
            "82\n",
            "83\n",
            "84\n",
            "85\n",
            "86\n",
            "87\n",
            "88\n",
            "89\n"
          ]
        }
      ]
    },
    {
      "cell_type": "code",
      "source": [
        "# import numpy as np\n",
        "train_x=np.array(x_train)\n",
        "test_x=np.array(x_test)\n"
      ],
      "metadata": {
        "colab": {
          "base_uri": "https://localhost:8080/"
        },
        "id": "3SkynLMhg1oi",
        "outputId": "dc17846e-6e6f-4afc-d573-660dcf1af1d5"
      },
      "execution_count": null,
      "outputs": [
        {
          "output_type": "execute_result",
          "data": {
            "text/plain": [
              "89"
            ]
          },
          "metadata": {},
          "execution_count": 80
        }
      ]
    },
    {
      "cell_type": "code",
      "source": [
        "#normalization\n",
        "train_x=train_x.astype('float64')/255.0\n",
        "test_x=test_x.astype('float64')/255.0\n"
      ],
      "metadata": {
        "id": "7y_yyDQXg3vc"
      },
      "execution_count": null,
      "outputs": []
    },
    {
      "cell_type": "code",
      "source": [],
      "metadata": {
        "colab": {
          "base_uri": "https://localhost:8080/"
        },
        "id": "zF-5uuLGuv8u",
        "outputId": "aaca9798-eb7a-47ce-d9bf-9c9795db2973"
      },
      "execution_count": null,
      "outputs": [
        {
          "output_type": "execute_result",
          "data": {
            "text/plain": [
              "(24, 224, 224, 3)"
            ]
          },
          "metadata": {},
          "execution_count": 83
        }
      ]
    },
    {
      "cell_type": "code",
      "source": [
        "train_datagen = ImageDataGenerator(rescale = 1./255)\n",
        "test_datagen = ImageDataGenerator(rescale = 1./255)\n",
        "training_set = train_datagen.flow_from_directory(train_path,\n",
        "                                                 target_size = (224, 224),\n",
        "                                                 batch_size = 32,\n",
        "                                                 class_mode = 'sparse')\n",
        "test_set = test_datagen.flow_from_directory(test_path,\n",
        "                                            target_size = (224, 224),\n",
        "                                            batch_size = 32,\n",
        "                                            class_mode = 'sparse')\n"
      ],
      "metadata": {
        "colab": {
          "base_uri": "https://localhost:8080/"
        },
        "id": "JnX-_iirh7F1",
        "outputId": "e9c1a251-69e3-4222-bb40-37e48a9c77d5"
      },
      "execution_count": null,
      "outputs": [
        {
          "output_type": "stream",
          "name": "stdout",
          "text": [
            "Found 89 images belonging to 5 classes.\n",
            "Found 24 images belonging to 5 classes.\n"
          ]
        }
      ]
    },
    {
      "cell_type": "code",
      "source": [
        "train_y=training_set.classes\n",
        "test_y = test_set.classes"
      ],
      "metadata": {
        "id": "NnFGnDGuiWZo"
      },
      "execution_count": null,
      "outputs": []
    },
    {
      "cell_type": "code",
      "source": [],
      "metadata": {
        "id": "NZD9UM7oip3t"
      },
      "execution_count": null,
      "outputs": []
    },
    {
      "cell_type": "code",
      "source": [
        "#make sure the samples are shuffled\n",
        "import numpy as np\n",
        "\n",
        "\n",
        "indices = np.arange(len(train_x)-1)\n",
        "np.random.shuffle(indices)\n",
        "\n",
        "# Apply the shuffling to both train_x and train_y\n",
        "shuffled_train_x = train_x[indices]\n",
        "shuffled_train_y = train_y[indices]"
      ],
      "metadata": {
        "id": "nfhKv2WiirAP"
      },
      "execution_count": null,
      "outputs": []
    },
    {
      "cell_type": "code",
      "source": [
        "indices = np.arange(len(test_x)-1)\n",
        "np.random.shuffle(indices)\n",
        "\n",
        "# Apply the shuffling to both train_x and train_y\n",
        "shuffled_test_x = test_x[indices]\n",
        "shuffled_test_y = test_y[indices]"
      ],
      "metadata": {
        "id": "zhuo7KqIjAMy"
      },
      "execution_count": null,
      "outputs": []
    },
    {
      "cell_type": "code",
      "source": [
        "import os\n",
        "import pickle\n",
        "\n",
        "# Specify the directory path where you want to save the datasets\n",
        "save_directory = '/content/drive/MyDrive/Volleyball Class/processed_data'\n",
        "\n",
        "# Ensure the directory exists, create it if necessary\n",
        "os.makedirs(save_directory, exist_ok=True)\n",
        "\n",
        "# Assuming you have train_x, train_y, test_x, and test_y as your datasets\n",
        "\n",
        "# Save training set in the specified directory\n",
        "train_file_path = os.path.join(save_directory, 'train_data.pkl')\n",
        "with open(train_file_path, 'wb') as file:\n",
        "    pickle.dump((shuffled_train_x, shuffled_train_y), file)\n",
        "\n",
        "# Save testing set in the specified directory\n",
        "test_file_path = os.path.join(save_directory, 'test_data.pkl')\n",
        "with open(test_file_path, 'wb') as file:\n",
        "    pickle.dump((shuffled_test_x, shuffled_test_y), file)\n",
        "\n"
      ],
      "metadata": {
        "id": "cCut0FTdvAuP"
      },
      "execution_count": null,
      "outputs": []
    },
    {
      "cell_type": "code",
      "source": [
        "\n",
        "# Load training set\n",
        "with open('/content/drive/MyDrive/Volleyball Class/processed_data/train_data.pkl', 'rb') as file:\n",
        "    train_x, train_y = pickle.load(file)\n",
        "\n",
        "# Load testing set\n",
        "with open('/content/drive/MyDrive/Volleyball Class/processed_data/test_data.pkl', 'rb') as file:\n",
        "    test_x, test_y = pickle.load(file)\n"
      ],
      "metadata": {
        "id": "q2RA9xPzvR3-"
      },
      "execution_count": null,
      "outputs": []
    },
    {
      "cell_type": "code",
      "source": [],
      "metadata": {
        "colab": {
          "base_uri": "https://localhost:8080/"
        },
        "id": "z6zqDmxDwlFi",
        "outputId": "9649b770-fb02-4375-e423-429a166f0457"
      },
      "execution_count": null,
      "outputs": [
        {
          "output_type": "execute_result",
          "data": {
            "text/plain": [
              "array([3, 2, 0, 1, 2, 4, 2, 0, 1, 2, 4, 4, 4, 3, 2, 4, 2, 0, 4, 2, 2, 3,\n",
              "       2, 2, 4, 4, 0, 4, 4, 4, 0, 4, 3, 3, 4, 1, 2, 3, 3, 4, 4, 1, 4, 3,\n",
              "       4, 0, 1, 1, 4, 4, 4, 4, 4, 1, 1, 4, 4, 4, 3, 4, 4, 0, 1, 4, 4, 4,\n",
              "       2, 4, 4, 4, 1, 2, 1, 0, 0, 0, 1, 4, 4, 3, 4, 2, 2, 3, 0, 0, 4, 4],\n",
              "      dtype=int32)"
            ]
          },
          "metadata": {},
          "execution_count": 99
        }
      ]
    },
    {
      "cell_type": "code",
      "source": [],
      "metadata": {
        "id": "nzJQP1Q_wyU4"
      },
      "execution_count": null,
      "outputs": []
    }
  ]
}